{
 "cells": [
  {
   "cell_type": "code",
   "execution_count": 1,
   "metadata": {},
   "outputs": [
    {
     "data": {
      "application/vnd.jupyter.widget-view+json": {
       "model_id": "f8ba1433bea946d78ec43af25086ef9c",
       "version_major": 2,
       "version_minor": 0
      },
      "text/plain": [
       "Figure(layout=FigureLayout(height='420px'))"
      ]
     },
     "metadata": {},
     "output_type": "display_data"
    }
   ],
   "source": [
    "import gmaps\n",
    "\n",
    "from api_keys import g_key\n",
    "\n",
    "gmaps.configure(api_key = g_key)\n",
    "\n",
    "nuclear_power_plants = [\n",
    "{'name': 'Atucha', 'location': (-34.0, -59.167), 'active_reactors': 1},\n",
    "{'name': 'Embalse', 'location': (-32.2333, -64.4333), 'active_reactors': 1},\n",
    "{'name': 'Armenia', 'location': (40.167, 44.133), 'active_reactors': 1},\n",
    "{'name': 'Br', 'location': (51.217, 5.083), 'active_reactors': 1},\n",
    "{'name': 'Doel', 'location': (51.333, 4.25), 'active_reactors': 4},\n",
    "{'name': 'Tihange', 'location': (50.517, 5.283), 'active_reactors': 3}\n",
    "]\n",
    "\n",
    "plant_locations = [plant['location'] for plant in nuclear_power_plants]\n",
    "\n",
    "info_box_template = \"\"\"\n",
    "<dl>\n",
    "<dt>Name</dt><dd>{name}</dd>\n",
    "<dt>Number reactors</dt><dd>{active_reactors}</dd>\n",
    "</dl>\n",
    "\"\"\"\n",
    "\n",
    "plant_info = [info_box_template.format(**plant) for plant in nuclear_power_plants]\n",
    "\n",
    "marker_layer = gmaps.marker_layer(plant_locations, info_box_content=plant_info)\n",
    "\n",
    "fig = gmaps.figure()\n",
    "fig.add_layer(marker_layer)\n",
    "fig"
   ]
  },
  {
   "cell_type": "code",
   "execution_count": null,
   "metadata": {},
   "outputs": [],
   "source": []
  }
 ],
 "metadata": {
  "kernelspec": {
   "display_name": "Python 3",
   "language": "python",
   "name": "python3"
  },
  "language_info": {
   "codemirror_mode": {
    "name": "ipython",
    "version": 3
   },
   "file_extension": ".py",
   "mimetype": "text/x-python",
   "name": "python",
   "nbconvert_exporter": "python",
   "pygments_lexer": "ipython3",
   "version": "3.7.6"
  }
 },
 "nbformat": 4,
 "nbformat_minor": 4
}
